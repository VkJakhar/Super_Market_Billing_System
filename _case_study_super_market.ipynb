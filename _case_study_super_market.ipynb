{
 "cells": [
  {
   "cell_type": "markdown",
   "id": "88ffae49-4746-49e7-a49b-321a1a9a104b",
   "metadata": {},
   "source": [
    "# Super Market Billing System"
   ]
  },
  {
   "cell_type": "code",
   "execution_count": 5,
   "id": "2bedbdd4-3586-4277-9192-8d6aa1dada39",
   "metadata": {},
   "outputs": [
    {
     "name": "stdout",
     "output_type": "stream",
     "text": [
      "if userc_choice  'yes then continue and no for stop loop'\n"
     ]
    },
    {
     "name": "stdin",
     "output_type": "stream",
     "text": [
      "enter items :  apple\n",
      "enter quantity :  10\n",
      "no for break loop  no\n"
     ]
    }
   ],
   "source": [
    "store = {}\n",
    "print(\"if userc_choice  'yes then continue and no for stop loop'\")\n",
    "while True:\n",
    "    items = input(\"enter items : \")\n",
    "    quantity = int(input(\"enter quantity : \"))\n",
    "    store[items] = quantity\n",
    "    user_choice = input(\"no for break loop \")\n",
    "    if user_choice == \"no\":\n",
    "        break\n",
    "        \n",
    "    "
   ]
  },
  {
   "cell_type": "code",
   "execution_count": 7,
   "id": "0eb59a3e-8d42-41a1-a919-f217edf6b21f",
   "metadata": {},
   "outputs": [
    {
     "name": "stdout",
     "output_type": "stream",
     "text": [
      "--------------------------------------------------\n",
      "Welcome to the Super Market Billhin System\n",
      "--------------------------------------------------\n"
     ]
    },
    {
     "name": "stdin",
     "output_type": "stream",
     "text": [
      "Enter you name:  vikram\n",
      "enter your phone number:  45\n"
     ]
    },
    {
     "name": "stdout",
     "output_type": "stream",
     "text": [
      "--------------------------------------------------\n",
      "products_items and price\n",
      "--------------------------------------------------\n",
      "Milk : 30.0\n",
      "Banana : 20.0\n",
      "Chocolate : 35.0\n",
      "Flour : 27.0\n",
      "Rice : 50.0\n",
      "Suger : 25.0\n",
      "Paneer : 80.0\n",
      "Yogurt : 20.0\n",
      "Chips : 10.0\n",
      "Tea : 50.0\n",
      "Coffee : 70.0\n",
      "Juices : 20.0\n",
      "Apple : 50.0\n",
      "Cooking oil : 60.0\n",
      "Ghee : 250.0\n",
      "Grapes : 30.0\n",
      "Tomatoes : 40.0\n",
      "Potatoes : 30.0\n",
      "Biscuits : 10.0\n",
      "--------------------------------------------------\n"
     ]
    },
    {
     "name": "stdin",
     "output_type": "stream",
     "text": [
      "enter product name you buy:  milk\n",
      "enter quantity name you buy:  5\n",
      "do you wanna add more items ?(yes/no) no\n"
     ]
    },
    {
     "name": "stdout",
     "output_type": "stream",
     "text": [
      "--------------------------------------------------\n",
      "Name:  vikram\n",
      "phone_number:  45\n",
      "Item_name      Price      Quantity Total       \n",
      "----------------------------------------\n",
      "Milk           30.0       5.0      150.0       \n",
      "----------------------------------------\n",
      "final_amount: 150.0\n",
      "discount_applied: discount 5%\n",
      "--------------------------------------------------\n",
      "payable_amount: 142.5\n",
      "--------------------------------------------------\n",
      "--------------------------------------------------\n",
      "\n",
      "\n",
      "\n"
     ]
    }
   ],
   "source": [
    "print(\"-\"*50)\n",
    "print(\"Welcome to the Super Market Billhin System\")\n",
    "print(\"-\"*50)\n",
    "#Name and Phone of the customer\n",
    "name = input(\"Enter you name: \")\n",
    "Phone = input(\"enter your phone number: \")\n",
    "# dietionary of products_items and price\n",
    "products_items = {\n",
    "\"Milk\": 30.0,\n",
    "\"Banana\": 20.0,\n",
    "\"Chocolate\": 35.0,\n",
    "\"Flour\": 27.0,\n",
    "\"Rice\": 50.0,\n",
    "\"Suger\": 25.0,\n",
    "\"Paneer\": 80.0,\n",
    "\"Yogurt\": 20.0,\n",
    "\"Chips\": 10.0,\n",
    "\"Tea\": 50.0,\n",
    "\"Coffee\": 70.0,\n",
    "\"Juices\": 20.0,\n",
    "\"Apple\": 50.0,\n",
    "\"Cooking oil\":60.0,\n",
    "\"Ghee\": 250.0,\n",
    "\"Grapes\": 30.0,\n",
    "\"Tomatoes\": 40.0,\n",
    "\"Potatoes\": 30.0,\n",
    "\"Biscuits\": 10.0\n",
    "}\n",
    "print(\"-\"*50)\n",
    "print(\"products_items and price\")\n",
    "print(\"-\"*50)\n",
    "for i,j in products_items.items():\n",
    " print(i, \":\" ,j)\n",
    "print(\"-\"*50)\n",
    "\n",
    "while True:\n",
    "    amount = 0\n",
    "    cart = {}\n",
    "    discount = 0\n",
    "    total_amount = 0\n",
    "    while True:\n",
    "         p_item = input(\"enter product name you buy: \").capitalize()\n",
    "         quantity = float(input(\"enter quantity name you buy: \"))\n",
    "         values = []\n",
    "         values.append(products_items[p_item])\n",
    "         values.append(quantity)\n",
    "         values.append(quantity * products_items[p_item])\n",
    "         cart[p_item] = values\n",
    "         amount += products_items[p_item] * quantity\n",
    "         repeat = input(\"do you wanna add more items ?(yes/no)\")\n",
    "         if repeat == \"no\":\n",
    "             break  \n",
    "     #Calculates discount_Amount\n",
    "    if amount <= 500:\n",
    "        discount = 0.05\n",
    "        Percent = \"discount 5%\"\n",
    "    elif amount <= 1500:\n",
    "        discount = 0.10\n",
    "        Percent = \"discount 10%\"\n",
    "    elif amount <= 3500:\n",
    "        discount = 0.15\n",
    "        Percent = \"discount 15%\"\n",
    "    elif amount <= 5000:\n",
    "        disount = 0.20\n",
    "        Percent = \"discount 20%\"\n",
    "    else:\n",
    "        discount = 0\n",
    "        Percent = \"no discount\"\n",
    "        \n",
    "    total_amount = amount - (amount*discount)\n",
    "    print(\"-\"*50)\n",
    "    print(\"Name: \",name)\n",
    "    print(\"phone_number: \",Phone)\n",
    "        \n",
    "     # Receipt formatting\n",
    "    \n",
    "    print(\"{:<15}{:<11}{:<9}{:<12}\".format(\"Item_name\",\"Price\",\"Quantity\",\"Total\"))\n",
    "    print(\"-\"*40)\n",
    "         \n",
    "    for i,j in cart.items():\n",
    "        print(\"{:<15}{:<11}{:<9}{:<12}\".format(i, j[0], j[1],j[0]*j[1]))\n",
    "        \n",
    "    print(\"-\"*40)\n",
    "    print(\"final_amount:\" , amount)\n",
    "    print(\"discount_applied:\", Percent)\n",
    "    print(\"-\"*50)\n",
    "        \n",
    "    print(\"payable_amount:\",total_amount)\n",
    "    print(\"-\"*50)\n",
    "    print(\"-\"*50)\n",
    "    print(\"\\n\\n\")\n",
    "    break\n",
    "         \n"
   ]
  },
  {
   "cell_type": "code",
   "execution_count": null,
   "id": "8fffb4f2-a34b-446a-85a3-7af126291fcf",
   "metadata": {},
   "outputs": [],
   "source": []
  }
 ],
 "metadata": {
  "kernelspec": {
   "display_name": "Python 3 (ipykernel)",
   "language": "python",
   "name": "python3"
  },
  "language_info": {
   "codemirror_mode": {
    "name": "ipython",
    "version": 3
   },
   "file_extension": ".py",
   "mimetype": "text/x-python",
   "name": "python",
   "nbconvert_exporter": "python",
   "pygments_lexer": "ipython3",
   "version": "3.13.1"
  },
  "widgets": {
   "application/vnd.jupyter.widget-state+json": {
    "state": {},
    "version_major": 2,
    "version_minor": 0
   }
  }
 },
 "nbformat": 4,
 "nbformat_minor": 5
}
